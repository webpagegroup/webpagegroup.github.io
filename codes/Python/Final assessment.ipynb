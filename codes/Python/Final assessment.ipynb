{
  "cells": [
    {
      "metadata": {
        "trusted": true
      },
      "cell_type": "code",
      "source": "import pandas as pd\nhigharibnb = pd.read_csv('highentire.csv')  # 读取训练数据",
      "execution_count": 1,
      "outputs": []
    },
    {
      "metadata": {
        "trusted": true
      },
      "cell_type": "code",
      "source": "#prepare for replace\nhigharibnb = pd.read_csv('highentire.csv')  # 读取训练数据\nnumber=higharibnb.groupby('ntaname_1').size()\nnumberdf= pd.DataFrame(number)\nnumberdf.columns = ['number']\nnumberdf.to_csv(\"highentirenumber.csv\",index=True ,sep=',')",
      "execution_count": 2,
      "outputs": []
    },
    {
      "metadata": {
        "trusted": true
      },
      "cell_type": "code",
      "source": "number=higharibnb.groupby('ntaname_1').size()",
      "execution_count": 2,
      "outputs": []
    },
    {
      "metadata": {
        "trusted": true
      },
      "cell_type": "code",
      "source": "number.head()",
      "execution_count": 3,
      "outputs": [
        {
          "output_type": "execute_result",
          "execution_count": 3,
          "data": {
            "text/plain": "ntaname_1\nAllerton-Pelham Gardens                        15\nAnnadale-Huguenot-Prince's Bay-Eltingville      2\nAstoria                                       109\nAuburndale                                      3\nBaisley Park                                   33\ndtype: int64"
          },
          "metadata": {}
        }
      ]
    },
    {
      "metadata": {
        "trusted": true
      },
      "cell_type": "code",
      "source": "type(number)",
      "execution_count": 4,
      "outputs": [
        {
          "output_type": "execute_result",
          "execution_count": 4,
          "data": {
            "text/plain": "pandas.core.series.Series"
          },
          "metadata": {}
        }
      ]
    },
    {
      "metadata": {
        "trusted": true
      },
      "cell_type": "code",
      "source": "number.describe()",
      "execution_count": 5,
      "outputs": [
        {
          "output_type": "execute_result",
          "execution_count": 5,
          "data": {
            "text/plain": "count    175.000000\nmean      40.822857\nstd       63.291040\nmin        1.000000\n25%        4.000000\n50%       14.000000\n75%       54.000000\nmax      444.000000\ndtype: float64"
          },
          "metadata": {}
        }
      ]
    },
    {
      "metadata": {
        "trusted": true
      },
      "cell_type": "code",
      "source": "numberdf= pd.DataFrame(number)",
      "execution_count": 7,
      "outputs": []
    },
    {
      "metadata": {
        "trusted": true
      },
      "cell_type": "code",
      "source": "numberdf.columns = ['number']\nnumberdf.head()",
      "execution_count": 8,
      "outputs": [
        {
          "output_type": "execute_result",
          "execution_count": 8,
          "data": {
            "text/html": "<div>\n<style scoped>\n    .dataframe tbody tr th:only-of-type {\n        vertical-align: middle;\n    }\n\n    .dataframe tbody tr th {\n        vertical-align: top;\n    }\n\n    .dataframe thead th {\n        text-align: right;\n    }\n</style>\n<table border=\"1\" class=\"dataframe\">\n  <thead>\n    <tr style=\"text-align: right;\">\n      <th></th>\n      <th>number</th>\n    </tr>\n    <tr>\n      <th>ntaname_1</th>\n      <th></th>\n    </tr>\n  </thead>\n  <tbody>\n    <tr>\n      <th>Allerton-Pelham Gardens</th>\n      <td>15</td>\n    </tr>\n    <tr>\n      <th>Annadale-Huguenot-Prince's Bay-Eltingville</th>\n      <td>2</td>\n    </tr>\n    <tr>\n      <th>Astoria</th>\n      <td>109</td>\n    </tr>\n    <tr>\n      <th>Auburndale</th>\n      <td>3</td>\n    </tr>\n    <tr>\n      <th>Baisley Park</th>\n      <td>33</td>\n    </tr>\n  </tbody>\n</table>\n</div>",
            "text/plain": "                                            number\nntaname_1                                         \nAllerton-Pelham Gardens                         15\nAnnadale-Huguenot-Prince's Bay-Eltingville       2\nAstoria                                        109\nAuburndale                                       3\nBaisley Park                                    33"
          },
          "metadata": {}
        }
      ]
    },
    {
      "metadata": {
        "trusted": true
      },
      "cell_type": "code",
      "source": "numberdf.to_csv(\"higharibnbnumber.csv\",index=True ,sep=',')\n\n\n\n\n\n\n\n",
      "execution_count": 9,
      "outputs": []
    },
    {
      "metadata": {
        "trusted": true
      },
      "cell_type": "code",
      "source": "brooklyn = pd.read_csv('brooklyn.csv')  # 读取训练数据",
      "execution_count": 9,
      "outputs": []
    },
    {
      "metadata": {
        "trusted": true
      },
      "cell_type": "code",
      "source": "brooklynnumber=brooklyn.groupby('neighbourhood').size()",
      "execution_count": 10,
      "outputs": []
    },
    {
      "metadata": {
        "trusted": true
      },
      "cell_type": "code",
      "source": "brooklynnumberdf= pd.DataFrame(brooklynnumber)\nbrooklynnumberdf.columns = ['number']\nbrooklynnumberdf.to_csv(\"brooklynnumber.csv\",index=True ,sep=',')\n\n\n\n\n\n\n",
      "execution_count": 11,
      "outputs": []
    },
    {
      "metadata": {
        "trusted": true
      },
      "cell_type": "code",
      "source": "manhattan = pd.read_csv('manhattan.csv')  # 读取训练数据",
      "execution_count": 12,
      "outputs": []
    },
    {
      "metadata": {
        "trusted": true
      },
      "cell_type": "code",
      "source": "manhattannumber=manhattan.groupby('neighbourhood').size()",
      "execution_count": 13,
      "outputs": []
    },
    {
      "metadata": {
        "trusted": true
      },
      "cell_type": "code",
      "source": "manhattannumberdf= pd.DataFrame(manhattannumber)\nmanhattannumberdf.columns = ['number']\nmanhattannumberdf.to_csv(\"manhattannumber.csv\",index=True ,sep=',')\n\n\n\n\n\n\n\n",
      "execution_count": 14,
      "outputs": []
    },
    {
      "metadata": {
        "trusted": true
      },
      "cell_type": "code",
      "source": "queens = pd.read_csv('queens.csv')  # 读取训练数据",
      "execution_count": 15,
      "outputs": []
    },
    {
      "metadata": {
        "trusted": true
      },
      "cell_type": "code",
      "source": "queensnumber=queens.groupby('neighbourhood').size()",
      "execution_count": 16,
      "outputs": []
    },
    {
      "metadata": {
        "trusted": true
      },
      "cell_type": "code",
      "source": "queensnumberdf= pd.DataFrame(queensnumber)\nqueensnumberdf.columns = ['number']\nqueensnumberdf.to_csv(\"queensnumber.csv\",index=True ,sep=',')\n\n\n\n\n\n\n\n",
      "execution_count": 17,
      "outputs": []
    },
    {
      "metadata": {
        "trusted": true
      },
      "cell_type": "code",
      "source": "staten_island = pd.read_csv('staten island.csv')  # 读取训练数据",
      "execution_count": 18,
      "outputs": []
    },
    {
      "metadata": {
        "trusted": true
      },
      "cell_type": "code",
      "source": "statenislandnumber=staten_island.groupby('neighbourhood').size()",
      "execution_count": 19,
      "outputs": []
    },
    {
      "metadata": {
        "trusted": true
      },
      "cell_type": "code",
      "source": "statenislandnumberdf= pd.DataFrame(statenislandnumber)\nstatenislandnumberdf.columns = ['number']\nstatenislandnumberdf.to_csv(\"statenislandnumber.csv\",index=True ,sep=',')\n\n\n\n\n\n\n\n\n",
      "execution_count": 20,
      "outputs": []
    },
    {
      "metadata": {
        "trusted": true
      },
      "cell_type": "code",
      "source": "bronxnumberdf.to_csv(\"test.csv\",index=True ,sep=',')\nbrooklynnumberdf.to_csv('test.csv', mode='a', header=False)\nmanhattannumberdf.to_csv('test.csv', mode='a', header=False)\nqueensnumberdf.to_csv('test.csv', mode='a', header=False)\nstatenislandnumberdf.to_csv('test.csv', mode='a', header=False)\n",
      "execution_count": 21,
      "outputs": []
    },
    {
      "metadata": {
        "trusted": true
      },
      "cell_type": "code",
      "source": "neighbourhood= pd.read_csv('neighbourhood.csv')  ",
      "execution_count": 22,
      "outputs": []
    },
    {
      "metadata": {
        "trusted": true
      },
      "cell_type": "code",
      "source": "bronxhousing= pd.read_csv('bronxhousing.csv')  \nbrooklynhousing= pd.read_csv('brooklynhousing.csv')  \nmanhattanhousing= pd.read_csv('manhattanhousing.csv')  \nqueenshousing= pd.read_csv('queenshousing.csv')  \nstatenhousing= pd.read_csv('statenhousing.csv')  ",
      "execution_count": 43,
      "outputs": []
    },
    {
      "metadata": {
        "trusted": true
      },
      "cell_type": "code",
      "source": "import numpy as np\ncleanbronxhousing=bronxhousing[bronxhousing.usable!='N']\ncleanbrooklynhousing=brooklynhousing[brooklynhousing.usable!='N']\ncleanmanhattanhousing=manhattanhousing[manhattanhousing.usable!='N']\ncleanqueenshousing=queenshousing[queenshousing.usable!='N']\ncleanstatenhousing=statenhousing[statenhousing.usable!='N']",
      "execution_count": 44,
      "outputs": []
    },
    {
      "metadata": {},
      "cell_type": "markdown",
      "source": "calculate"
    },
    {
      "metadata": {
        "trusted": true
      },
      "cell_type": "code",
      "source": "a1=sum(cleanbronxhousing['price'])\nb1=sum(cleanbronxhousing['tot_sqft'])\nbronxpriceavg=a1/b1\nbronxpriceavg",
      "execution_count": 42,
      "outputs": [
        {
          "output_type": "execute_result",
          "execution_count": 42,
          "data": {
            "text/plain": "181.3558999518794"
          },
          "metadata": {}
        }
      ]
    },
    {
      "metadata": {
        "trusted": true
      },
      "cell_type": "code",
      "source": "a2=sum(cleanbrooklynhousing['price'])\nb2=sum(cleanbrooklynhousing['tot_sqft'])\nbrooklynpriceavg=a2/b2\nbrooklynpriceavg",
      "execution_count": 46,
      "outputs": [
        {
          "output_type": "execute_result",
          "execution_count": 46,
          "data": {
            "text/plain": "496.9076904469607"
          },
          "metadata": {}
        }
      ]
    },
    {
      "metadata": {
        "trusted": true
      },
      "cell_type": "code",
      "source": "a3=sum(cleanmanhattanhousing['price'])\nb3=sum(cleanmanhattanhousing['tot_sqft'])\nmanhattanpriceavg=a3/b3\nmanhattanpriceavg",
      "execution_count": 47,
      "outputs": [
        {
          "output_type": "execute_result",
          "execution_count": 47,
          "data": {
            "text/plain": "484.9780886359579"
          },
          "metadata": {}
        }
      ]
    },
    {
      "metadata": {
        "trusted": true
      },
      "cell_type": "code",
      "source": "a4=sum(cleanqueenshousing['price'])\nb4=sum(cleanqueenshousing['tot_sqft'])\nqueenspriceavg=a4/b4\nqueenspriceavg",
      "execution_count": 48,
      "outputs": [
        {
          "output_type": "execute_result",
          "execution_count": 48,
          "data": {
            "text/plain": "428.7121248160824"
          },
          "metadata": {}
        }
      ]
    },
    {
      "metadata": {
        "trusted": true
      },
      "cell_type": "code",
      "source": "a5=sum(cleanstatenhousing['price'])\nb5=sum(cleanstatenhousing['tot_sqft'])\nstatenpriceavg=a5/b5\nstatenpriceavg",
      "execution_count": 49,
      "outputs": [
        {
          "output_type": "execute_result",
          "execution_count": 49,
          "data": {
            "text/plain": "266.2753055930986"
          },
          "metadata": {}
        }
      ]
    },
    {
      "metadata": {
        "trusted": true
      },
      "cell_type": "code",
      "source": "haha=bronx.groupby('nbhd').size()",
      "execution_count": null,
      "outputs": []
    },
    {
      "metadata": {
        "trusted": true
      },
      "cell_type": "code",
      "source": "bronxhousing['nbhd'].describe()",
      "execution_count": 51,
      "outputs": [
        {
          "output_type": "execute_result",
          "execution_count": 51,
          "data": {
            "text/plain": "count          6291\nunique           38\ntop       RIVERDALE\nfreq            640\nName: nbhd, dtype: object"
          },
          "metadata": {}
        }
      ]
    },
    {
      "metadata": {
        "trusted": true
      },
      "cell_type": "code",
      "source": "brooklynhousing['nbhd'].describe()",
      "execution_count": 52,
      "outputs": [
        {
          "output_type": "execute_result",
          "execution_count": 52,
          "data": {
            "text/plain": "count                  23337\nunique                    61\ntop       BEDFORD STUYVESANT\nfreq                    1765\nName: nbhd, dtype: object"
          },
          "metadata": {}
        }
      ]
    },
    {
      "metadata": {
        "trusted": true
      },
      "cell_type": "code",
      "source": "manhattanhousing['nbhd'].describe()",
      "execution_count": 53,
      "outputs": [
        {
          "output_type": "execute_result",
          "execution_count": 53,
          "data": {
            "text/plain": "count            23757\nunique              39\ntop       MIDTOWN WEST\nfreq              4928\nName: nbhd, dtype: object"
          },
          "metadata": {}
        }
      ]
    },
    {
      "metadata": {
        "trusted": true
      },
      "cell_type": "code",
      "source": "queenshousing['nbhd'].describe()",
      "execution_count": 54,
      "outputs": [
        {
          "output_type": "execute_result",
          "execution_count": 54,
          "data": {
            "text/plain": "count              24561\nunique                61\ntop       FLUSHING-NORTH\nfreq                2484\nName: nbhd, dtype: object"
          },
          "metadata": {}
        }
      ]
    },
    {
      "metadata": {
        "trusted": true
      },
      "cell_type": "code",
      "source": "statenhousing['nbhd'].describe()",
      "execution_count": 61,
      "outputs": [
        {
          "output_type": "execute_result",
          "execution_count": 61,
          "data": {
            "text/plain": "count            6822\nunique             57\ntop       GREAT KILLS\nfreq              553\nName: nbhd, dtype: object"
          },
          "metadata": {}
        }
      ]
    },
    {
      "metadata": {
        "trusted": true
      },
      "cell_type": "code",
      "source": "bronxhousing.head()",
      "execution_count": 62,
      "outputs": [
        {
          "output_type": "execute_result",
          "execution_count": 62,
          "data": {
            "text/html": "<div>\n<style scoped>\n    .dataframe tbody tr th:only-of-type {\n        vertical-align: middle;\n    }\n\n    .dataframe tbody tr th {\n        vertical-align: top;\n    }\n\n    .dataframe thead th {\n        text-align: right;\n    }\n</style>\n<table border=\"1\" class=\"dataframe\">\n  <thead>\n    <tr style=\"text-align: right;\">\n      <th></th>\n      <th>Sale_id</th>\n      <th>bbl_id</th>\n      <th>year</th>\n      <th>borough</th>\n      <th>nbhd</th>\n      <th>bldg_ctgy</th>\n      <th>tax_cls_p</th>\n      <th>block</th>\n      <th>lot</th>\n      <th>easmnt</th>\n      <th>...</th>\n      <th>yr_built</th>\n      <th>tax_cls_s</th>\n      <th>bldg_cls_s</th>\n      <th>sale_date</th>\n      <th>price</th>\n      <th>usable</th>\n      <th>long</th>\n      <th>lat</th>\n      <th>georesult</th>\n      <th>message</th>\n    </tr>\n  </thead>\n  <tbody>\n    <tr>\n      <th>0</th>\n      <td>1</td>\n      <td>2290528</td>\n      <td>2015</td>\n      <td>2</td>\n      <td>BATHGATE</td>\n      <td>01  ONE FAMILY DWELLINGS</td>\n      <td>1</td>\n      <td>2905</td>\n      <td>28</td>\n      <td>NaN</td>\n      <td>...</td>\n      <td>1899</td>\n      <td>1</td>\n      <td>A9</td>\n      <td>08/07/2015</td>\n      <td>0</td>\n      <td>N</td>\n      <td>-73.901338</td>\n      <td>40.841229</td>\n      <td>Address Match</td>\n      <td>NaN</td>\n    </tr>\n    <tr>\n      <th>1</th>\n      <td>2</td>\n      <td>2290528</td>\n      <td>2015</td>\n      <td>2</td>\n      <td>BATHGATE</td>\n      <td>01  ONE FAMILY DWELLINGS</td>\n      <td>1</td>\n      <td>2905</td>\n      <td>28</td>\n      <td>NaN</td>\n      <td>...</td>\n      <td>1899</td>\n      <td>1</td>\n      <td>A9</td>\n      <td>08/07/2015</td>\n      <td>0</td>\n      <td>N</td>\n      <td>-73.901338</td>\n      <td>40.841229</td>\n      <td>Address Match</td>\n      <td>NaN</td>\n    </tr>\n    <tr>\n      <th>2</th>\n      <td>3</td>\n      <td>230352</td>\n      <td>2015</td>\n      <td>2</td>\n      <td>BATHGATE</td>\n      <td>01  ONE FAMILY DWELLINGS</td>\n      <td>1</td>\n      <td>3035</td>\n      <td>2</td>\n      <td>NaN</td>\n      <td>...</td>\n      <td>1899</td>\n      <td>1</td>\n      <td>S1</td>\n      <td>12/18/2015</td>\n      <td>0</td>\n      <td>N</td>\n      <td>-73.898331</td>\n      <td>40.848648</td>\n      <td>Address Match</td>\n      <td>NaN</td>\n    </tr>\n    <tr>\n      <th>3</th>\n      <td>4</td>\n      <td>2303936</td>\n      <td>2015</td>\n      <td>2</td>\n      <td>BATHGATE</td>\n      <td>01  ONE FAMILY DWELLINGS</td>\n      <td>1</td>\n      <td>3039</td>\n      <td>36</td>\n      <td>NaN</td>\n      <td>...</td>\n      <td>1910</td>\n      <td>1</td>\n      <td>S1</td>\n      <td>08/18/2015</td>\n      <td>0</td>\n      <td>N</td>\n      <td>-73.893338</td>\n      <td>40.856136</td>\n      <td>Address Match</td>\n      <td>NaN</td>\n    </tr>\n    <tr>\n      <th>4</th>\n      <td>5</td>\n      <td>2303936</td>\n      <td>2015</td>\n      <td>2</td>\n      <td>BATHGATE</td>\n      <td>01  ONE FAMILY DWELLINGS</td>\n      <td>1</td>\n      <td>3039</td>\n      <td>36</td>\n      <td>NaN</td>\n      <td>...</td>\n      <td>1910</td>\n      <td>1</td>\n      <td>S1</td>\n      <td>07/01/2015</td>\n      <td>400000</td>\n      <td>Y</td>\n      <td>-73.893338</td>\n      <td>40.856136</td>\n      <td>Address Match</td>\n      <td>NaN</td>\n    </tr>\n  </tbody>\n</table>\n<p>5 rows × 29 columns</p>\n</div>",
            "text/plain": "   Sale_id   bbl_id  year  borough      nbhd                 bldg_ctgy  \\\n0        1  2290528  2015        2  BATHGATE  01  ONE FAMILY DWELLINGS   \n1        2  2290528  2015        2  BATHGATE  01  ONE FAMILY DWELLINGS   \n2        3   230352  2015        2  BATHGATE  01  ONE FAMILY DWELLINGS   \n3        4  2303936  2015        2  BATHGATE  01  ONE FAMILY DWELLINGS   \n4        5  2303936  2015        2  BATHGATE  01  ONE FAMILY DWELLINGS   \n\n  tax_cls_p  block  lot  easmnt   ...    yr_built tax_cls_s bldg_cls_s  \\\n0         1   2905   28     NaN   ...        1899         1         A9   \n1         1   2905   28     NaN   ...        1899         1         A9   \n2         1   3035    2     NaN   ...        1899         1         S1   \n3         1   3039   36     NaN   ...        1910         1         S1   \n4         1   3039   36     NaN   ...        1910         1         S1   \n\n    sale_date   price  usable       long        lat      georesult  message  \n0  08/07/2015       0       N -73.901338  40.841229  Address Match      NaN  \n1  08/07/2015       0       N -73.901338  40.841229  Address Match      NaN  \n2  12/18/2015       0       N -73.898331  40.848648  Address Match      NaN  \n3  08/18/2015       0       N -73.893338  40.856136  Address Match      NaN  \n4  07/01/2015  400000       Y -73.893338  40.856136  Address Match      NaN  \n\n[5 rows x 29 columns]"
          },
          "metadata": {}
        }
      ]
    },
    {
      "metadata": {
        "trusted": true
      },
      "cell_type": "code",
      "source": "",
      "execution_count": null,
      "outputs": []
    },
    {
      "metadata": {
        "trusted": true
      },
      "cell_type": "code",
      "source": "",
      "execution_count": null,
      "outputs": []
    },
    {
      "metadata": {
        "trusted": true
      },
      "cell_type": "code",
      "source": "",
      "execution_count": null,
      "outputs": []
    },
    {
      "metadata": {
        "trusted": true
      },
      "cell_type": "code",
      "source": "",
      "execution_count": null,
      "outputs": []
    },
    {
      "metadata": {
        "trusted": true
      },
      "cell_type": "code",
      "source": "",
      "execution_count": null,
      "outputs": []
    }
  ],
  "metadata": {
    "kernelspec": {
      "name": "python36",
      "display_name": "Python 3.6",
      "language": "python"
    },
    "language_info": {
      "mimetype": "text/x-python",
      "nbconvert_exporter": "python",
      "name": "python",
      "pygments_lexer": "ipython3",
      "version": "3.6.6",
      "file_extension": ".py",
      "codemirror_mode": {
        "version": 3,
        "name": "ipython"
      }
    }
  },
  "nbformat": 4,
  "nbformat_minor": 2
}