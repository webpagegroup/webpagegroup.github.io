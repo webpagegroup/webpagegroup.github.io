{
  "cells": [
    {
      "metadata": {
        "trusted": true
      },
      "cell_type": "code",
      "source": "import csv\nfilePath = \"finalhousing.csv\"\nwritePath = \"finalhousingprice.csv\"\ncsv_file = csv.reader(open(filePath,'r'))\ndata_info = next(csv_file)\nntaname_1List = []\nlineList = []\ni=1\n",
      "execution_count": 26,
      "outputs": []
    },
    {
      "metadata": {
        "trusted": true
      },
      "cell_type": "code",
      "source": "for line in csv_file:\n    ntaname_1List.append(line[9])\n    lineList.append(line)\nntaname_1List = sorted(set(ntaname_1List))\ninfoList = []\nfor ntaname_1 in ntaname_1List:\n    price= 0\n    tot_sqft = 1\n    average=0\n    info = {}\n    for line in lineList:\n        if line[9] == ntaname_1 and line[0] != \"\":\n            price = price + int(line[2])\n            tot_sqft = tot_sqft + int(line[1])\n            tot_sqft=tot_sqft-1\n    try:\n        average=price/tot_sqft\n    except:\n        average=0\n    info[\"ntaname_1\"] = ntaname_1\n    info[\"price\"] = price\n    info[\"tot_sqft\"] = tot_sqft\n    info[\"average\"] = average\n    infoList.append(info)\nwith open(writePath,\"w+\",newline='') as f:\n    csv_writer = csv.writer(f)\n    csv_writer.writerow([\"ntaname_1\",\"tot_sqft\",\"price\",\"average\"])\n    for info in infoList:\n        i = []\n        for k,v in info.items():\n            i.append(str(v))\n        csv_writer.writerow(i)\n",
      "execution_count": 52,
      "outputs": []
    },
    {
      "metadata": {
        "trusted": true
      },
      "cell_type": "code",
      "source": "",
      "execution_count": 49,
      "outputs": [
        {
          "output_type": "execute_result",
          "execution_count": 49,
          "data": {
            "text/plain": "<_csv.writer at 0x7f8ebfd7f1a8>"
          },
          "metadata": {}
        }
      ]
    },
    {
      "metadata": {
        "trusted": true
      },
      "cell_type": "markdown",
      "source": "bronxnumberdf.to_csv(\"allhousing.csv\",index=True ,sep=',')\nbrooklynnumberdf.to_csv('test.csv', mode='a', header=False)\nmanhattannumberdf.to_csv('test.csv', mode='a', header=False)\nqueensnumberdf.to_csv('test.csv', mode='a', header=False)\nstatenislandnumberdf.to_csv('test.csv', mode='a', header=False)"
    },
    {
      "metadata": {
        "trusted": true
      },
      "cell_type": "markdown",
      "source": "file1=open(\"bronxsum.csv\")\nfile2=open(\"brooklynsum.csv\")\nfile3=open(\"manhattansum.csv\")\nfile4=open(\"queenssum.csv\")\nfile5=open(\"statensum.csv\")\nfile6=csv.writer(open(\"allhousing.csv\",\"w\"))"
    },
    {
      "metadata": {
        "trusted": true
      },
      "cell_type": "code",
      "source": "import pandas as pd\nbronx = pd.read_csv('bronxsum.csv',index_col=0) \nbrooklyn = pd.read_csv('brooklynsum.csv',index_col=0)\nmanhattan = pd.read_csv('manhattansum.csv',index_col=0)\nqueens = pd.read_csv('queenssum.csv',index_col=0) \nstaten = pd.read_csv('statensum.csv',index_col=0)",
      "execution_count": 31,
      "outputs": []
    },
    {
      "metadata": {
        "trusted": true
      },
      "cell_type": "code",
      "source": "bronx",
      "execution_count": 30,
      "outputs": [
        {
          "output_type": "execute_result",
          "execution_count": 30,
          "data": {
            "text/html": "<div>\n<style scoped>\n    .dataframe tbody tr th:only-of-type {\n        vertical-align: middle;\n    }\n\n    .dataframe tbody tr th {\n        vertical-align: top;\n    }\n\n    .dataframe thead th {\n        text-align: right;\n    }\n</style>\n<table border=\"1\" class=\"dataframe\">\n  <thead>\n    <tr style=\"text-align: right;\">\n      <th></th>\n      <th>tot_sqft</th>\n      <th>price</th>\n      <th>average</th>\n    </tr>\n    <tr>\n      <th>nbhd</th>\n      <th></th>\n      <th></th>\n      <th></th>\n    </tr>\n  </thead>\n  <tbody>\n    <tr>\n      <th>BATHGATE</th>\n      <td>60755788</td>\n      <td>335332</td>\n      <td>181.181003</td>\n    </tr>\n    <tr>\n      <th>BAYCHESTER</th>\n      <td>96097754</td>\n      <td>477292</td>\n      <td>201.339545</td>\n    </tr>\n    <tr>\n      <th>BEDFORD PARK/NORWOOD</th>\n      <td>218561451</td>\n      <td>1280453</td>\n      <td>170.690725</td>\n    </tr>\n    <tr>\n      <th>BELMONT</th>\n      <td>81404435</td>\n      <td>374883</td>\n      <td>217.146243</td>\n    </tr>\n    <tr>\n      <th>BRONX PARK</th>\n      <td>1072307</td>\n      <td>3897</td>\n      <td>275.162176</td>\n    </tr>\n    <tr>\n      <th>BRONX-UNKNOWN</th>\n      <td>0</td>\n      <td>1</td>\n      <td>0.000000</td>\n    </tr>\n    <tr>\n      <th>BRONXDALE</th>\n      <td>162867981</td>\n      <td>840066</td>\n      <td>193.875221</td>\n    </tr>\n    <tr>\n      <th>CASTLE HILL/UNIONPORT</th>\n      <td>109904614</td>\n      <td>667851</td>\n      <td>164.564572</td>\n    </tr>\n    <tr>\n      <th>CITY ISLAND</th>\n      <td>27100364</td>\n      <td>78565</td>\n      <td>344.941946</td>\n    </tr>\n    <tr>\n      <th>CITY ISLAND-PELHAM STRIP</th>\n      <td>1827777</td>\n      <td>5499</td>\n      <td>332.383524</td>\n    </tr>\n    <tr>\n      <th>CO-OP CITY</th>\n      <td>850000</td>\n      <td>5900</td>\n      <td>144.067797</td>\n    </tr>\n    <tr>\n      <th>COUNTRY CLUB</th>\n      <td>49296283</td>\n      <td>184696</td>\n      <td>266.904984</td>\n    </tr>\n    <tr>\n      <th>CROTONA PARK</th>\n      <td>22468751</td>\n      <td>209541</td>\n      <td>107.228423</td>\n    </tr>\n    <tr>\n      <th>EAST TREMONT</th>\n      <td>141268708</td>\n      <td>908535</td>\n      <td>155.490661</td>\n    </tr>\n    <tr>\n      <th>FIELDSTON</th>\n      <td>31707915</td>\n      <td>109331</td>\n      <td>290.017607</td>\n    </tr>\n    <tr>\n      <th>FORDHAM</th>\n      <td>162157776</td>\n      <td>895486</td>\n      <td>181.083541</td>\n    </tr>\n    <tr>\n      <th>HIGHBRIDGE/MORRIS HEIGHTS</th>\n      <td>160334029</td>\n      <td>1005673</td>\n      <td>159.429585</td>\n    </tr>\n    <tr>\n      <th>HUNTS POINT</th>\n      <td>63529495</td>\n      <td>347402</td>\n      <td>182.870263</td>\n    </tr>\n    <tr>\n      <th>KINGSBRIDGE HTS/UNIV HTS</th>\n      <td>165000721</td>\n      <td>2299158</td>\n      <td>71.765716</td>\n    </tr>\n    <tr>\n      <th>KINGSBRIDGE/JEROME PARK</th>\n      <td>288312513</td>\n      <td>743088</td>\n      <td>387.992422</td>\n    </tr>\n    <tr>\n      <th>MELROSE/CONCOURSE</th>\n      <td>201259827</td>\n      <td>1228438</td>\n      <td>163.833931</td>\n    </tr>\n    <tr>\n      <th>MORRIS PARK/VAN NEST</th>\n      <td>172666309</td>\n      <td>1585849</td>\n      <td>108.879413</td>\n    </tr>\n    <tr>\n      <th>MORRISANIA/LONGWOOD</th>\n      <td>225108703</td>\n      <td>1573459</td>\n      <td>143.066138</td>\n    </tr>\n    <tr>\n      <th>MOTT HAVEN/PORT MORRIS</th>\n      <td>198477024</td>\n      <td>939618</td>\n      <td>211.231611</td>\n    </tr>\n    <tr>\n      <th>MOUNT HOPE/MOUNT EDEN</th>\n      <td>243905665</td>\n      <td>1573166</td>\n      <td>155.041277</td>\n    </tr>\n    <tr>\n      <th>PARKCHESTER</th>\n      <td>87987380</td>\n      <td>284014</td>\n      <td>309.799447</td>\n    </tr>\n    <tr>\n      <th>PELHAM GARDENS</th>\n      <td>16473300</td>\n      <td>69712</td>\n      <td>236.305084</td>\n    </tr>\n    <tr>\n      <th>PELHAM PARKWAY NORTH</th>\n      <td>36975716</td>\n      <td>172483</td>\n      <td>214.373103</td>\n    </tr>\n    <tr>\n      <th>PELHAM PARKWAY SOUTH</th>\n      <td>297741138</td>\n      <td>1752494</td>\n      <td>169.895668</td>\n    </tr>\n    <tr>\n      <th>RIVERDALE</th>\n      <td>358096347</td>\n      <td>831650</td>\n      <td>430.585399</td>\n    </tr>\n    <tr>\n      <th>SCHUYLERVILLE/PELHAM BAY</th>\n      <td>114857960</td>\n      <td>421026</td>\n      <td>272.804910</td>\n    </tr>\n    <tr>\n      <th>SOUNDVIEW</th>\n      <td>155128116</td>\n      <td>880587</td>\n      <td>176.164440</td>\n    </tr>\n    <tr>\n      <th>THROGS NECK</th>\n      <td>87455789</td>\n      <td>334286</td>\n      <td>261.619658</td>\n    </tr>\n    <tr>\n      <th>VAN CORTLANDT PARK</th>\n      <td>1281644</td>\n      <td>5997</td>\n      <td>213.714190</td>\n    </tr>\n    <tr>\n      <th>WAKEFIELD</th>\n      <td>96649023</td>\n      <td>513870</td>\n      <td>188.080688</td>\n    </tr>\n    <tr>\n      <th>WESTCHESTER</th>\n      <td>80963056</td>\n      <td>435271</td>\n      <td>186.006088</td>\n    </tr>\n    <tr>\n      <th>WILLIAMSBRIDGE</th>\n      <td>167486049</td>\n      <td>829883</td>\n      <td>201.818870</td>\n    </tr>\n    <tr>\n      <th>WOODLAWN</th>\n      <td>26207897</td>\n      <td>125701</td>\n      <td>208.493942</td>\n    </tr>\n  </tbody>\n</table>\n</div>",
            "text/plain": "                            tot_sqft    price     average\nnbhd                                                     \nBATHGATE                    60755788   335332  181.181003\nBAYCHESTER                  96097754   477292  201.339545\nBEDFORD PARK/NORWOOD       218561451  1280453  170.690725\nBELMONT                     81404435   374883  217.146243\nBRONX PARK                   1072307     3897  275.162176\nBRONX-UNKNOWN                      0        1    0.000000\nBRONXDALE                  162867981   840066  193.875221\nCASTLE HILL/UNIONPORT      109904614   667851  164.564572\nCITY ISLAND                 27100364    78565  344.941946\nCITY ISLAND-PELHAM STRIP     1827777     5499  332.383524\nCO-OP CITY                    850000     5900  144.067797\nCOUNTRY CLUB                49296283   184696  266.904984\nCROTONA PARK                22468751   209541  107.228423\nEAST TREMONT               141268708   908535  155.490661\nFIELDSTON                   31707915   109331  290.017607\nFORDHAM                    162157776   895486  181.083541\nHIGHBRIDGE/MORRIS HEIGHTS  160334029  1005673  159.429585\nHUNTS POINT                 63529495   347402  182.870263\nKINGSBRIDGE HTS/UNIV HTS   165000721  2299158   71.765716\nKINGSBRIDGE/JEROME PARK    288312513   743088  387.992422\nMELROSE/CONCOURSE          201259827  1228438  163.833931\nMORRIS PARK/VAN NEST       172666309  1585849  108.879413\nMORRISANIA/LONGWOOD        225108703  1573459  143.066138\nMOTT HAVEN/PORT MORRIS     198477024   939618  211.231611\nMOUNT HOPE/MOUNT EDEN      243905665  1573166  155.041277\nPARKCHESTER                 87987380   284014  309.799447\nPELHAM GARDENS              16473300    69712  236.305084\nPELHAM PARKWAY NORTH        36975716   172483  214.373103\nPELHAM PARKWAY SOUTH       297741138  1752494  169.895668\nRIVERDALE                  358096347   831650  430.585399\nSCHUYLERVILLE/PELHAM BAY   114857960   421026  272.804910\nSOUNDVIEW                  155128116   880587  176.164440\nTHROGS NECK                 87455789   334286  261.619658\nVAN CORTLANDT PARK           1281644     5997  213.714190\nWAKEFIELD                   96649023   513870  188.080688\nWESTCHESTER                 80963056   435271  186.006088\nWILLIAMSBRIDGE             167486049   829883  201.818870\nWOODLAWN                    26207897   125701  208.493942"
          },
          "metadata": {}
        }
      ]
    },
    {
      "metadata": {
        "trusted": true
      },
      "cell_type": "markdown",
      "source": "bronxdf= pd.DataFrame(bronx)\nbrooklyndf= pd.DataFrame(brooklyn)\nmanhattandf= pd.DataFrame(manhattan)\nqueensdf= pd.DataFrame(queens)\nstatendf= pd.DataFrame(staten)"
    },
    {
      "metadata": {
        "trusted": true
      },
      "cell_type": "code",
      "source": "bronxdf",
      "execution_count": 33,
      "outputs": [
        {
          "output_type": "execute_result",
          "execution_count": 33,
          "data": {
            "text/html": "<div>\n<style scoped>\n    .dataframe tbody tr th:only-of-type {\n        vertical-align: middle;\n    }\n\n    .dataframe tbody tr th {\n        vertical-align: top;\n    }\n\n    .dataframe thead th {\n        text-align: right;\n    }\n</style>\n<table border=\"1\" class=\"dataframe\">\n  <thead>\n    <tr style=\"text-align: right;\">\n      <th></th>\n      <th>tot_sqft</th>\n      <th>price</th>\n      <th>average</th>\n    </tr>\n    <tr>\n      <th>nbhd</th>\n      <th></th>\n      <th></th>\n      <th></th>\n    </tr>\n  </thead>\n  <tbody>\n    <tr>\n      <th>BATHGATE</th>\n      <td>60755788</td>\n      <td>335332</td>\n      <td>181.181003</td>\n    </tr>\n    <tr>\n      <th>BAYCHESTER</th>\n      <td>96097754</td>\n      <td>477292</td>\n      <td>201.339545</td>\n    </tr>\n    <tr>\n      <th>BEDFORD PARK/NORWOOD</th>\n      <td>218561451</td>\n      <td>1280453</td>\n      <td>170.690725</td>\n    </tr>\n    <tr>\n      <th>BELMONT</th>\n      <td>81404435</td>\n      <td>374883</td>\n      <td>217.146243</td>\n    </tr>\n    <tr>\n      <th>BRONX PARK</th>\n      <td>1072307</td>\n      <td>3897</td>\n      <td>275.162176</td>\n    </tr>\n    <tr>\n      <th>BRONX-UNKNOWN</th>\n      <td>0</td>\n      <td>1</td>\n      <td>0.000000</td>\n    </tr>\n    <tr>\n      <th>BRONXDALE</th>\n      <td>162867981</td>\n      <td>840066</td>\n      <td>193.875221</td>\n    </tr>\n    <tr>\n      <th>CASTLE HILL/UNIONPORT</th>\n      <td>109904614</td>\n      <td>667851</td>\n      <td>164.564572</td>\n    </tr>\n    <tr>\n      <th>CITY ISLAND</th>\n      <td>27100364</td>\n      <td>78565</td>\n      <td>344.941946</td>\n    </tr>\n    <tr>\n      <th>CITY ISLAND-PELHAM STRIP</th>\n      <td>1827777</td>\n      <td>5499</td>\n      <td>332.383524</td>\n    </tr>\n    <tr>\n      <th>CO-OP CITY</th>\n      <td>850000</td>\n      <td>5900</td>\n      <td>144.067797</td>\n    </tr>\n    <tr>\n      <th>COUNTRY CLUB</th>\n      <td>49296283</td>\n      <td>184696</td>\n      <td>266.904984</td>\n    </tr>\n    <tr>\n      <th>CROTONA PARK</th>\n      <td>22468751</td>\n      <td>209541</td>\n      <td>107.228423</td>\n    </tr>\n    <tr>\n      <th>EAST TREMONT</th>\n      <td>141268708</td>\n      <td>908535</td>\n      <td>155.490661</td>\n    </tr>\n    <tr>\n      <th>FIELDSTON</th>\n      <td>31707915</td>\n      <td>109331</td>\n      <td>290.017607</td>\n    </tr>\n    <tr>\n      <th>FORDHAM</th>\n      <td>162157776</td>\n      <td>895486</td>\n      <td>181.083541</td>\n    </tr>\n    <tr>\n      <th>HIGHBRIDGE/MORRIS HEIGHTS</th>\n      <td>160334029</td>\n      <td>1005673</td>\n      <td>159.429585</td>\n    </tr>\n    <tr>\n      <th>HUNTS POINT</th>\n      <td>63529495</td>\n      <td>347402</td>\n      <td>182.870263</td>\n    </tr>\n    <tr>\n      <th>KINGSBRIDGE HTS/UNIV HTS</th>\n      <td>165000721</td>\n      <td>2299158</td>\n      <td>71.765716</td>\n    </tr>\n    <tr>\n      <th>KINGSBRIDGE/JEROME PARK</th>\n      <td>288312513</td>\n      <td>743088</td>\n      <td>387.992422</td>\n    </tr>\n    <tr>\n      <th>MELROSE/CONCOURSE</th>\n      <td>201259827</td>\n      <td>1228438</td>\n      <td>163.833931</td>\n    </tr>\n    <tr>\n      <th>MORRIS PARK/VAN NEST</th>\n      <td>172666309</td>\n      <td>1585849</td>\n      <td>108.879413</td>\n    </tr>\n    <tr>\n      <th>MORRISANIA/LONGWOOD</th>\n      <td>225108703</td>\n      <td>1573459</td>\n      <td>143.066138</td>\n    </tr>\n    <tr>\n      <th>MOTT HAVEN/PORT MORRIS</th>\n      <td>198477024</td>\n      <td>939618</td>\n      <td>211.231611</td>\n    </tr>\n    <tr>\n      <th>MOUNT HOPE/MOUNT EDEN</th>\n      <td>243905665</td>\n      <td>1573166</td>\n      <td>155.041277</td>\n    </tr>\n    <tr>\n      <th>PARKCHESTER</th>\n      <td>87987380</td>\n      <td>284014</td>\n      <td>309.799447</td>\n    </tr>\n    <tr>\n      <th>PELHAM GARDENS</th>\n      <td>16473300</td>\n      <td>69712</td>\n      <td>236.305084</td>\n    </tr>\n    <tr>\n      <th>PELHAM PARKWAY NORTH</th>\n      <td>36975716</td>\n      <td>172483</td>\n      <td>214.373103</td>\n    </tr>\n    <tr>\n      <th>PELHAM PARKWAY SOUTH</th>\n      <td>297741138</td>\n      <td>1752494</td>\n      <td>169.895668</td>\n    </tr>\n    <tr>\n      <th>RIVERDALE</th>\n      <td>358096347</td>\n      <td>831650</td>\n      <td>430.585399</td>\n    </tr>\n    <tr>\n      <th>SCHUYLERVILLE/PELHAM BAY</th>\n      <td>114857960</td>\n      <td>421026</td>\n      <td>272.804910</td>\n    </tr>\n    <tr>\n      <th>SOUNDVIEW</th>\n      <td>155128116</td>\n      <td>880587</td>\n      <td>176.164440</td>\n    </tr>\n    <tr>\n      <th>THROGS NECK</th>\n      <td>87455789</td>\n      <td>334286</td>\n      <td>261.619658</td>\n    </tr>\n    <tr>\n      <th>VAN CORTLANDT PARK</th>\n      <td>1281644</td>\n      <td>5997</td>\n      <td>213.714190</td>\n    </tr>\n    <tr>\n      <th>WAKEFIELD</th>\n      <td>96649023</td>\n      <td>513870</td>\n      <td>188.080688</td>\n    </tr>\n    <tr>\n      <th>WESTCHESTER</th>\n      <td>80963056</td>\n      <td>435271</td>\n      <td>186.006088</td>\n    </tr>\n    <tr>\n      <th>WILLIAMSBRIDGE</th>\n      <td>167486049</td>\n      <td>829883</td>\n      <td>201.818870</td>\n    </tr>\n    <tr>\n      <th>WOODLAWN</th>\n      <td>26207897</td>\n      <td>125701</td>\n      <td>208.493942</td>\n    </tr>\n  </tbody>\n</table>\n</div>",
            "text/plain": "                            tot_sqft    price     average\nnbhd                                                     \nBATHGATE                    60755788   335332  181.181003\nBAYCHESTER                  96097754   477292  201.339545\nBEDFORD PARK/NORWOOD       218561451  1280453  170.690725\nBELMONT                     81404435   374883  217.146243\nBRONX PARK                   1072307     3897  275.162176\nBRONX-UNKNOWN                      0        1    0.000000\nBRONXDALE                  162867981   840066  193.875221\nCASTLE HILL/UNIONPORT      109904614   667851  164.564572\nCITY ISLAND                 27100364    78565  344.941946\nCITY ISLAND-PELHAM STRIP     1827777     5499  332.383524\nCO-OP CITY                    850000     5900  144.067797\nCOUNTRY CLUB                49296283   184696  266.904984\nCROTONA PARK                22468751   209541  107.228423\nEAST TREMONT               141268708   908535  155.490661\nFIELDSTON                   31707915   109331  290.017607\nFORDHAM                    162157776   895486  181.083541\nHIGHBRIDGE/MORRIS HEIGHTS  160334029  1005673  159.429585\nHUNTS POINT                 63529495   347402  182.870263\nKINGSBRIDGE HTS/UNIV HTS   165000721  2299158   71.765716\nKINGSBRIDGE/JEROME PARK    288312513   743088  387.992422\nMELROSE/CONCOURSE          201259827  1228438  163.833931\nMORRIS PARK/VAN NEST       172666309  1585849  108.879413\nMORRISANIA/LONGWOOD        225108703  1573459  143.066138\nMOTT HAVEN/PORT MORRIS     198477024   939618  211.231611\nMOUNT HOPE/MOUNT EDEN      243905665  1573166  155.041277\nPARKCHESTER                 87987380   284014  309.799447\nPELHAM GARDENS              16473300    69712  236.305084\nPELHAM PARKWAY NORTH        36975716   172483  214.373103\nPELHAM PARKWAY SOUTH       297741138  1752494  169.895668\nRIVERDALE                  358096347   831650  430.585399\nSCHUYLERVILLE/PELHAM BAY   114857960   421026  272.804910\nSOUNDVIEW                  155128116   880587  176.164440\nTHROGS NECK                 87455789   334286  261.619658\nVAN CORTLANDT PARK           1281644     5997  213.714190\nWAKEFIELD                   96649023   513870  188.080688\nWESTCHESTER                 80963056   435271  186.006088\nWILLIAMSBRIDGE             167486049   829883  201.818870\nWOODLAWN                    26207897   125701  208.493942"
          },
          "metadata": {}
        }
      ]
    },
    {
      "metadata": {
        "trusted": true
      },
      "cell_type": "code",
      "source": "bronxdf.to_csv(\"allhousing.csv\",index=True ,sep=',')\nbrooklyndf.to_csv('allhousing.csv', mode='a', header=False)\nmanhattandf.to_csv('allhousing.csv', mode='a', header=False)\nqueensdf.to_csv('allhousing.csv', mode='a', header=False)\nstatendf.to_csv('allhousing.csv', mode='a', header=False)",
      "execution_count": 34,
      "outputs": []
    },
    {
      "metadata": {
        "trusted": true
      },
      "cell_type": "code",
      "source": "",
      "execution_count": null,
      "outputs": []
    }
  ],
  "metadata": {
    "kernelspec": {
      "name": "python36",
      "display_name": "Python 3.6",
      "language": "python"
    },
    "language_info": {
      "mimetype": "text/x-python",
      "nbconvert_exporter": "python",
      "name": "python",
      "pygments_lexer": "ipython3",
      "version": "3.6.6",
      "file_extension": ".py",
      "codemirror_mode": {
        "version": 3,
        "name": "ipython"
      }
    }
  },
  "nbformat": 4,
  "nbformat_minor": 2
}